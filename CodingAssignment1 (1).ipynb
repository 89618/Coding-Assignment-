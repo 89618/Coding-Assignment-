{
 "cells": [
  {
   "cell_type": "markdown",
   "id": "swedish-amber",
   "metadata": {},
   "source": [
    "<hr size=\"12\" style = \"background-color:Aqua;\">"
   ]
  },
  {
   "cell_type": "markdown",
   "id": "medium-hearing",
   "metadata": {},
   "source": [
    "# MIS394 Coding Assignment 1\n",
    "### Deadline: <u> Feb 28, 2022 (midnight) </u>\n",
    "### Functions, Loops, Variables, Conditional Statements\n",
    "### You can work in a team of <font color = \"red\"><b> 2-3 people </b></font> \n",
    "<hr size=\"12\" style = \"background-color:Aqua;\">"
   ]
  },
  {
   "cell_type": "markdown",
   "id": "competent-providence",
   "metadata": {},
   "source": [
    "<p style=\"text-align: center;\"> <font size = 6> Track your investments </p> </font>\n",
    "<font color = \"blue\"> In this challenge, you’ll write a program that tracks the growing amount of an investment over time.</font>"
   ]
  },
  {
   "cell_type": "markdown",
   "id": "polish-upset",
   "metadata": {},
   "source": [
    "<u> Background </u>\n",
    "\n",
    "- The initial deposit for an investment is called the principal amount. Each year, the amount increases by a fixed percentage called the annual rate of return.\n",
    "- For example, a principal amount of AED100.00 with and annual rate of return of 5 percent increases the first year amount by AED5.00 for a new amount of AED105.00. The second year, the increase is 5 percent of 105.00 bringing the total to AED110.25.\n",
    "\n",
    "<u> Your Tasks </u>\n",
    "\n",
    "- Write a program that prompt the user to enter an initial amount, an annual percentage rate and the number of years. \n",
    "- Then call invest() to display the calculations for the values entered by the user. \n",
    "- If the investment is for 3 years then the program should display the investment values for year 1 to year 3.\n",
    "- At the end of the specified year, when the total amount of return is computed, the program will display different messages depending on the amount gained:\n",
    "1. For amount > 2500, display \"Extraordinary Investment!!\"\n",
    "2. For amount > 1500 and <= 2500, display \"Great Investment!\"\n",
    "3. For amount > 800 and <= 1500, display \"Average Investment\"\n",
    "\n",
    "> For the first three messages, the program should also display the amount of gain for the duration of the years.\n",
    "> - For example:\n",
    "If the investment amount was AED9000 for the duration of 5 years and the user made more than AED2500, the program should display \"Extraordinary investment! You've made 4223.952691200002 in 5 year.\"\n",
    "\n",
    "4. Otherwise, display \"Poor investment. To help you gain more, let's play a game of chance!\"\n",
    "- The user should be given an option to play or not.\n",
    "- If the user decided to play then they will enter the game of chance, otherwise display a goodbye message and exit the program.\n",
    "\n",
    "- In the Game of Chance, the program will ask the user to guess a random number between 1 to 10 in an attempt to win a million dollars. \n",
    "- The user has three chances to guess the number. Give the user a hint on whether the guess is lower or higher than the exact number.\n",
    "- Congratulate the user if he/she guessed the correct number!  "
   ]
  },
  {
   "cell_type": "markdown",
   "id": "shaped-flash",
   "metadata": {},
   "source": [
    "<u> Constraints to include in the program </u>\n",
    "1. The initial amount should be between AED5,000 and AED10,000.\n",
    "2. The rate should be greater than 0 and less than or equal to 8%.\n",
    "3. The number of years should not exceed 5.\n",
    "4. The program should use two <b>User-Defined-Functions</b> \n",
    "5. The program should check for invalid input.\n",
    "\n",
    "<u> Things to consider: </u>\n",
    "1. Make use of the built-in range function\n",
    "2. Make use of While/for loop and if/else statements\n",
    "3. Make use of the random library\n",
    "5. Your program should not use any of the Python Data Structures (i.e. list, set, tuples, and dictionary).\n",
    "6. Write comments explaining what a particular code does.\n",
    "7. The best way to debug a program is to use print to print out the values of variables at points in the program to see where they go wrong.\n",
    "8. Make sure parts of your programs work as you work on them. Do not write massive files of code before you try to run them. <i> Code a little, run a little, fix a little. </i>\n",
    "\n",
    "#### Note: Please do not use any concepts that are not covered in the class. Refer to the <font color = \"red\"><b> grading rubric </b></font>  for details.\n",
    "\n",
    "<hr size=\"12\" style = \"background-color:Aqua;\">"
   ]
  },
  {
   "cell_type": "code",
   "execution_count": 4,
   "id": "identified-value",
   "metadata": {},
   "outputs": [
    {
     "name": "stdin",
     "output_type": "stream",
     "text": [
      "Enter the investment Amount:  9800\n",
      "Enter the Rate:  0.08\n",
      "Enter the Number of Years:  5\n"
     ]
    },
    {
     "name": "stdout",
     "output_type": "stream",
     "text": [
      "\n",
      "\n",
      "Year 1: $10,584.0\n",
      "Year 2: $11,430.7\n",
      "Year 3: $12,345.2\n",
      "Year 4: $13,332.8\n",
      "Year 5: $14,399.4\n",
      "\n",
      "Extraordinary investment! You've made 4599.4151526400055 in 5 years.\n"
     ]
    }
   ],
   "source": [
    "# Your answer here"
   ]
  },
  {
   "cell_type": "code",
   "execution_count": null,
   "id": "subjective-massage",
   "metadata": {},
   "outputs": [],
   "source": []
  }
 ],
 "metadata": {
  "kernelspec": {
   "display_name": "Python 3",
   "language": "python",
   "name": "python3"
  },
  "language_info": {
   "codemirror_mode": {
    "name": "ipython",
    "version": 3
   },
   "file_extension": ".py",
   "mimetype": "text/x-python",
   "name": "python",
   "nbconvert_exporter": "python",
   "pygments_lexer": "ipython3",
   "version": "3.8.5"
  }
 },
 "nbformat": 4,
 "nbformat_minor": 5
}
